{
 "cells": [
  {
   "cell_type": "code",
   "execution_count": 1,
   "id": "7ebc3c7a",
   "metadata": {
    "_cell_guid": "b1076dfc-b9ad-4769-8c92-a6c4dae69d19",
    "_uuid": "8f2839f25d086af736a60e9eeb907d3b93b6e0e5",
    "execution": {
     "iopub.execute_input": "2023-12-30T17:56:23.221623Z",
     "iopub.status.busy": "2023-12-30T17:56:23.220491Z",
     "iopub.status.idle": "2023-12-30T17:56:25.188679Z",
     "shell.execute_reply": "2023-12-30T17:56:25.187271Z"
    },
    "papermill": {
     "duration": 1.975601,
     "end_time": "2023-12-30T17:56:25.191609",
     "exception": false,
     "start_time": "2023-12-30T17:56:23.216008",
     "status": "completed"
    },
    "tags": []
   },
   "outputs": [
    {
     "name": "stdout",
     "output_type": "stream",
     "text": [
      "DataFrame exported to fantasy_scores.xlsx\n"
     ]
    }
   ],
   "source": [
    "import pandas as pd\n",
    "\n",
    "url = 'https://www.basketball-reference.com/leagues/NBA_2024_per_game.html'\n",
    "df = pd.read_html(url)[0]  # Assuming the desired table is the first one\n",
    "\n",
    "df.rename(columns={\n",
    "    \"Player\": \"Player\",\n",
    "    \"Pos\": \"Position\",\n",
    "    \"Age\": \"Age\",\n",
    "    \"TRB\": \"Rebounds\",\n",
    "    \"AST\": \"Assists\",\n",
    "    \"STL\": \"Steals\",\n",
    "    \"BLK\": \"Blocks\",\n",
    "    \"TOV\": \"Turnovers\",\n",
    "    \"PTS\": \"Points\"\n",
    "}, inplace=True)\n",
    "\n",
    "# Specify the columns you want to keep\n",
    "desired_columns = [\"Player\", \"Position\", \"Age\", \"Rebounds\", \"Assists\", \"Steals\", \"Blocks\", \"Turnovers\", \"Points\"]\n",
    "\n",
    "df = df.loc[:, desired_columns]\n",
    "\n",
    "# Convert \"Points\" column to numeric, converting non-numeric values to NaN\n",
    "df[\"Points\"] = pd.to_numeric(df[\"Points\"], errors=\"coerce\")\n",
    "\n",
    "# Drop rows with NaN values in the \"Points\" column\n",
    "df = df.dropna(subset=[\"Points\"])\n",
    "\n",
    "def calculate_fantasy_score(row):\n",
    "    points = pd.to_numeric(row[\"Points\"])\n",
    "    rebounds = pd.to_numeric(row[\"Rebounds\"])\n",
    "    assists = pd.to_numeric(row[\"Assists\"])\n",
    "    steals = pd.to_numeric(row[\"Steals\"])\n",
    "    blocks = pd.to_numeric(row[\"Blocks\"])\n",
    "    turnovers = pd.to_numeric(row[\"Turnovers\"])\n",
    "\n",
    "    fantasy_score = points + 1 * (rebounds * 1.2) + assists * 1.5 + steals * 3 + blocks * 3 - turnovers\n",
    "    return fantasy_score\n",
    "\n",
    "# Apply the function to each row of the DataFrame\n",
    "df[\"FantasyScore\"] = df.apply(calculate_fantasy_score, axis=1)\n",
    "\n",
    "# Sort the DataFrame based on the \"FantasyScore\" column in descending order\n",
    "df_fantasy_score = df.sort_values(by=\"FantasyScore\", ascending=False)\n",
    "\n",
    "# Export the DataFrame to an Excel file\n",
    "excel_filename = \"fantasy_scores.xlsx\"\n",
    "df_fantasy_score.to_excel(excel_filename, index=False)\n",
    "\n",
    "print(f\"DataFrame exported to {excel_filename}\")"
   ]
  }
 ],
 "metadata": {
  "kaggle": {
   "accelerator": "none",
   "dataSources": [],
   "isGpuEnabled": false,
   "isInternetEnabled": true,
   "language": "python",
   "sourceType": "notebook"
  },
  "kernelspec": {
   "display_name": "Python 3",
   "language": "python",
   "name": "python3"
  },
  "language_info": {
   "codemirror_mode": {
    "name": "ipython",
    "version": 3
   },
   "file_extension": ".py",
   "mimetype": "text/x-python",
   "name": "python",
   "nbconvert_exporter": "python",
   "pygments_lexer": "ipython3",
   "version": "3.10.12"
  },
  "papermill": {
   "default_parameters": {},
   "duration": 6.395469,
   "end_time": "2023-12-30T17:56:25.817534",
   "environment_variables": {},
   "exception": null,
   "input_path": "__notebook__.ipynb",
   "output_path": "__notebook__.ipynb",
   "parameters": {},
   "start_time": "2023-12-30T17:56:19.422065",
   "version": "2.4.0"
  }
 },
 "nbformat": 4,
 "nbformat_minor": 5
}
